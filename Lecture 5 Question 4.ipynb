{
 "cells": [
  {
   "cell_type": "markdown",
   "metadata": {},
   "source": [
    "# 04.Recall that, given a string s , s.index( ' x ' ) returns the index of the first x in s and an error if there is no x.\n",
    "\n",
    "(a) Write a program that asks the user for a string and a letter. Using a while loop, the program should print the index of the first occurrence of that letter and a message if the string does not contain the letter."
   ]
  },
  {
   "cell_type": "code",
   "execution_count": 3,
   "metadata": {},
   "outputs": [
    {
     "name": "stdout",
     "output_type": "stream",
     "text": [
      "Enter a String: hei man\n",
      "Enter a Letter: i\n",
      "\n",
      "First occurrence of \" i \" is found at index: 2 \n",
      "\n",
      "Enter a String: whats up\n",
      "Enter a Letter: i\n",
      "\n",
      "The String does not contain the Letter\n",
      "\n",
      "Enter a String: who are you\n",
      "Enter a Letter: w\n",
      "\n",
      "First occurrence of \" w \" is found at index: 0 \n",
      "\n",
      "Enter a String: debo?\n",
      "Enter a Letter: d\n",
      "\n",
      "First occurrence of \" d \" is found at index: 0 \n",
      "\n"
     ]
    }
   ],
   "source": [
    "i = 0\n",
    "while i < 4: \n",
    "    s = raw_input(\"Enter a String: \") \n",
    "    letter = raw_input(\"Enter a Letter: \") \n",
    "    if letter in s: \n",
    "        find = s.index(letter) \n",
    "        print \"\\nFirst occurrence of \"'\"',letter,'\"'\" is found at index:\",find,\"\\n\" \n",
    "    else: \n",
    "        print \"\\nThe String does not contain the Letter\\n\"\n",
    "    i = i + 1"
   ]
  },
  {
   "cell_type": "markdown",
   "metadata": {},
   "source": [
    "# (b)Write the above program using a for/break loop instead of a while loop."
   ]
  },
  {
   "cell_type": "code",
   "execution_count": 4,
   "metadata": {},
   "outputs": [
    {
     "name": "stdout",
     "output_type": "stream",
     "text": [
      "Enter a String: what are you up to?\n",
      "Enter a Letter: a\n",
      "\n",
      "First occurrence of \" a \" is found at index: 2 \n",
      "\n"
     ]
    }
   ],
   "source": [
    "s = raw_input(\"Enter a String: \") # input a string\n",
    "letter = raw_input(\"Enter a Letter: \") # input a letter \n",
    "for i in range(1): \n",
    "    if letter in s: \n",
    "        find = s.index(letter) # find out the first index of the letter\n",
    "        print \"\\nFirst occurrence of \"'\"',letter,'\"'\" is found at index:\",find,\"\\n\" # print statement\n",
    "        break\n",
    "    else:\n",
    "        print \"\\nThe String does not contain the Letter\\n\" # print statement"
   ]
  },
  {
   "cell_type": "code",
   "execution_count": null,
   "metadata": {},
   "outputs": [],
   "source": []
  }
 ],
 "metadata": {
  "kernelspec": {
   "display_name": "Python 3",
   "language": "python",
   "name": "python3"
  },
  "language_info": {
   "codemirror_mode": {
    "name": "ipython",
    "version": 3
   },
   "file_extension": ".py",
   "mimetype": "text/x-python",
   "name": "python",
   "nbconvert_exporter": "python",
   "pygments_lexer": "ipython3",
   "version": "3.7.0"
  }
 },
 "nbformat": 4,
 "nbformat_minor": 2
}
