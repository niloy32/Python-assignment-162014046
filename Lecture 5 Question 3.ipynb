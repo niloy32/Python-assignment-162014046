{
 "cells": [
  {
   "cell_type": "markdown",
   "metadata": {},
   "source": [
    "# 03.Write a program that asks the user to enter a password. If the user enters the right password, the program should tell them they are logged in to the system. Otherwise, the program should ask them to reenter the password. The user should only get five tries to enter the password, after which point the program should tell them that they are kicked off of the system."
   ]
  },
  {
   "cell_type": "code",
   "execution_count": 5,
   "metadata": {},
   "outputs": [
    {
     "name": "stdout",
     "output_type": "stream",
     "text": [
      "Enter the password: 23456\n",
      "Wrong Password\n",
      "Enter the password: 4907354\n",
      "Wrong Password\n",
      "Enter the password: 374673608\n",
      "Wrong Password\n",
      "Enter the password: 34928922\n",
      "Login Succesful\n"
     ]
    }
   ],
   "source": [
    "i = 0\n",
    "a = 34928922\n",
    "while i < 6:\n",
    "    pas = input(\"Enter the password: \")\n",
    "    if pas == a:\n",
    "        print(\"Login Succesful\")\n",
    "        break\n",
    "    else:\n",
    "        print(\"Wrong Password\")\n",
    "    i += 1\n",
    "    if i == 6:\n",
    "        print(\"\\nYou are kicked off the system\")"
   ]
  },
  {
   "cell_type": "code",
   "execution_count": null,
   "metadata": {},
   "outputs": [],
   "source": []
  }
 ],
 "metadata": {
  "kernelspec": {
   "display_name": "Python 3",
   "language": "python",
   "name": "python3"
  },
  "language_info": {
   "codemirror_mode": {
    "name": "ipython",
    "version": 3
   },
   "file_extension": ".py",
   "mimetype": "text/x-python",
   "name": "python",
   "nbconvert_exporter": "python",
   "pygments_lexer": "ipython3",
   "version": "3.7.0"
  }
 },
 "nbformat": 4,
 "nbformat_minor": 2
}
