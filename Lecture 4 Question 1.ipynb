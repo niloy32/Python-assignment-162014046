{
 "cells": [
  {
   "cell_type": "markdown",
   "metadata": {},
   "source": [
    "1.Write a program that repeatedly asks the user to enter product names and prices. Store all of these in a dictionary whose keys are the product names and whose values are the prices. When the user is done entering products and prices, allow them to repeatedly enter a product name and print the corresponding price or a message if the product is not in the dictionary."
   ]
  },
  {
   "cell_type": "code",
   "execution_count": 1,
   "metadata": {},
   "outputs": [
    {
     "name": "stdout",
     "output_type": "stream",
     "text": [
      "Give the name of the Product: ass\n",
      "Price32\n",
      "Want to add another? (Y/N)n\n",
      "[{'name': 'ass', 'Price': [32]}]\n"
     ]
    }
   ],
   "source": [
    "cancel = False\n",
    "Plist = []\n",
    "\n",
    "while (True):\n",
    "    name = input(\"Give the name of the Product: \")\n",
    "    Price = [int(i) for i in input(\"Price\").split(\" \")]\n",
    "\n",
    "    Plist.append({\n",
    "        \"Name\": name,\n",
    "        \"Price\": Price,\n",
    "    })\n",
    "\n",
    "    cont = input(\"Want to add another? (Y/N)\")\n",
    "    if cont == \"n\":\n",
    "        break;\n",
    "\n",
    "print(Plist)"
   ]
  },
  {
   "cell_type": "code",
   "execution_count": null,
   "metadata": {},
   "outputs": [],
   "source": []
  }
 ],
 "metadata": {
  "kernelspec": {
   "display_name": "Python 3",
   "language": "python",
   "name": "python3"
  },
  "language_info": {
   "codemirror_mode": {
    "name": "ipython",
    "version": 3
   },
   "file_extension": ".py",
   "mimetype": "text/x-python",
   "name": "python",
   "nbconvert_exporter": "python",
   "pygments_lexer": "ipython3",
   "version": "3.7.0"
  }
 },
 "nbformat": 4,
 "nbformat_minor": 2
}
