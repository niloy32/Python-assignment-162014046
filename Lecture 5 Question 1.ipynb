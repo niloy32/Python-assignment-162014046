{
 "cells": [
  {
   "cell_type": "markdown",
   "metadata": {},
   "source": [
    "# 01.Write a program that uses a while loop (not a for loop) to read through a string and print the characters of the string one-by-one on separate lines.\n",
    "\n",
    "Modify the program above to print out every second character of the string."
   ]
  },
  {
   "cell_type": "code",
   "execution_count": 1,
   "metadata": {},
   "outputs": [
    {
     "name": "stdout",
     "output_type": "stream",
     "text": [
      "T\n",
      "a\n",
      "n\n",
      "z\n",
      "i\n",
      "m\n",
      "u\n",
      "l\n",
      " \n",
      "H\n",
      "a\n",
      "q\n",
      "u\n",
      "e\n"
     ]
    }
   ],
   "source": [
    "dipt = 0\n",
    "debo = 'Tanzimul Haque'\n",
    "while dipt < len(debo):\n",
    "    print (debo[dipt])\n",
    "    dipt += 1"
   ]
  },
  {
   "cell_type": "code",
   "execution_count": null,
   "metadata": {},
   "outputs": [],
   "source": []
  },
  {
   "cell_type": "code",
   "execution_count": null,
   "metadata": {},
   "outputs": [],
   "source": []
  }
 ],
 "metadata": {
  "kernelspec": {
   "display_name": "Python 3",
   "language": "python",
   "name": "python3"
  },
  "language_info": {
   "codemirror_mode": {
    "name": "ipython",
    "version": 3
   },
   "file_extension": ".py",
   "mimetype": "text/x-python",
   "name": "python",
   "nbconvert_exporter": "python",
   "pygments_lexer": "ipython3",
   "version": "3.7.0"
  }
 },
 "nbformat": 4,
 "nbformat_minor": 2
}
