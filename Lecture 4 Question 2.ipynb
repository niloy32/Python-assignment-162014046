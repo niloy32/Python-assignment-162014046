{
 "cells": [
  {
   "cell_type": "markdown",
   "metadata": {},
   "source": [
    "2.Using the dictionary created in the previous problem, allow the user to enter a dollar amount and print out all the products whose price is less than that amount."
   ]
  },
  {
   "cell_type": "code",
   "execution_count": 5,
   "metadata": {},
   "outputs": [
    {
     "name": "stdout",
     "output_type": "stream",
     "text": [
      "Enter the amount of dollar: $3987\n",
      "\n",
      "Products whose price is less than \"$ 3987 \":\n",
      "Product: Mouse\n",
      "Product: Speaker\n",
      "Product: Keyboard\n"
     ]
    }
   ],
   "source": [
    "dict = {'CPU': 5000, 'Keyboard': 500, 'Speaker': 2000, 'Mouse': 200}\n",
    "amount = input(\"Enter the amount of dollar: $\") #input the dollar amount\n",
    "print \"\\nProducts whose price is less than \"'\"$',amount, '\"'\":\"\n",
    "for key in dict:\n",
    "    if dict[key] < amount: #if price is less than the amount\n",
    "        print \"Product:\", key #print that product"
   ]
  },
  {
   "cell_type": "code",
   "execution_count": null,
   "metadata": {},
   "outputs": [],
   "source": []
  },
  {
   "cell_type": "code",
   "execution_count": null,
   "metadata": {},
   "outputs": [],
   "source": []
  }
 ],
 "metadata": {
  "kernelspec": {
   "display_name": "Python 3",
   "language": "python",
   "name": "python3"
  },
  "language_info": {
   "codemirror_mode": {
    "name": "ipython",
    "version": 3
   },
   "file_extension": ".py",
   "mimetype": "text/x-python",
   "name": "python",
   "nbconvert_exporter": "python",
   "pygments_lexer": "ipython3",
   "version": "3.7.0"
  }
 },
 "nbformat": 4,
 "nbformat_minor": 2
}
