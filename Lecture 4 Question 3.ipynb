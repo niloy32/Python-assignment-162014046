{
 "cells": [
  {
   "cell_type": "markdown",
   "metadata": {},
   "source": [
    "3.Write a program that uses a dictionary that contains ten user names and passwords. The program should ask the user to enter their username and password. If the username is not in the dictionary, the program should indicate that the person is not a valid user of the system. If the username is in the dictionary, but the user does not enter the right password, the program should say that the password is invalid. If the password is correct, then the program should tell the user that they are now logged in to the system."
   ]
  },
  {
   "cell_type": "code",
   "execution_count": 1,
   "metadata": {},
   "outputs": [
    {
     "name": "stdout",
     "output_type": "stream",
     "text": [
      "Please enter your username.\n",
      "dave\n",
      "Please enter your password.\n",
      "manchester\n",
      "bad username / password\n"
     ]
    }
   ],
   "source": [
    "username_password = {\"Dave\":\"manchester\",\"eks\":\"di\",\"jeff\":\"nootnoot\",\"nil\":\"kadw\",\"jeff\":\"awd\",\"jeff\":\"nootnowadot\",\"wadaw\":\"fwaf\",\"jeff\":\"wadaw\",\"fwafa\":\"fwafwa\",\"jefdwaf\":\"wadaw\"}\n",
    "\n",
    "login_username = str(input(\"Please enter your username.\\n\"))\n",
    "login_password = str(input(\"Please enter your password.\\n\"))\n",
    "login_username, login_password = login_username.strip(), login_password.strip()\n",
    "\n",
    "\n",
    "if login_username in username_password and login_password == username_password[login_username]:\n",
    "    print(\"Logged in\")\n",
    "else:\n",
    "    print(\"bad username / password\")"
   ]
  },
  {
   "cell_type": "code",
   "execution_count": null,
   "metadata": {},
   "outputs": [],
   "source": []
  }
 ],
 "metadata": {
  "kernelspec": {
   "display_name": "Python 3",
   "language": "python",
   "name": "python3"
  },
  "language_info": {
   "codemirror_mode": {
    "name": "ipython",
    "version": 3
   },
   "file_extension": ".py",
   "mimetype": "text/x-python",
   "name": "python",
   "nbconvert_exporter": "python",
   "pygments_lexer": "ipython3",
   "version": "3.7.0"
  }
 },
 "nbformat": 4,
 "nbformat_minor": 2
}
